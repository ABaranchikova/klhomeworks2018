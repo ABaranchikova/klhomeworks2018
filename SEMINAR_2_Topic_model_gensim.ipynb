{
 "cells": [
  {
   "cell_type": "code",
   "execution_count": 1,
   "metadata": {},
   "outputs": [
    {
     "name": "stderr",
     "output_type": "stream",
     "text": [
      "C:\\Users\\Asus\\Anaconda3\\envs\\mllecture\\lib\\site-packages\\gensim\\utils.py:1167: UserWarning: detected Windows; aliasing chunkize to chunkize_serial\n",
      "  warnings.warn(\"detected Windows; aliasing chunkize to chunkize_serial\")\n"
     ]
    }
   ],
   "source": [
    "import gensim\n",
    "import json\n",
    "import re\n",
    "from nltk.tokenize import word_tokenize\n",
    "from pymorphy2 import MorphAnalyzer\n",
    "import pyLDAvis.gensim \n",
    "\n",
    "morph = MorphAnalyzer()"
   ]
  },
  {
   "cell_type": "code",
   "execution_count": 2,
   "metadata": {
    "collapsed": true
   },
   "outputs": [],
   "source": [
    "import collections"
   ]
  },
  {
   "cell_type": "markdown",
   "metadata": {},
   "source": [
    "## Домашнее задание"
   ]
  },
  {
   "cell_type": "markdown",
   "metadata": {},
   "source": [
    "Основаная задача - **построить хорошую тематическую модель с интерпретируемыми топиками**.\n",
    "\n",
    "1) сделайте нормализацию (если pymorphy2 работает долго используйте mystem или попробуйте установить быструю версию - `pip install pymorphy2[fast]`, можно использовать какой-то другой токенизатор); \n",
    "\n",
    "2) добавьте нграммы (в тетрадке есть закомменченая ячейка с Phrases); \n",
    "\n",
    "3) сделайте хороший словарь (отфильтруйте слишком частотные и редкие слова, попробуйте удалить стоп-слова); \n",
    "\n",
    "4) постройте несколько LDA моделей (переберите количество тем, можете поменять eta, alpha, passes), если получаются плохие темы, поработайте дополнительно над предобработкой и словарем; \n",
    "\n",
    "5) для самой хорошей модели в отдельной ячейке напечатайте 3 хороших (на ваш вкус) темы;\n",
    "\n",
    "6) между словарем и обучением модели добавьте tfidf (`gensim.models.TfidfModel(corpus, id2word=dictionary); corpus = tfidf[corpus]`);\n",
    "\n",
    "7) заново обучите LDA c теми же параметрами (параметрами самой лучшей модели, заново перебирать не нужно);\n",
    "\n",
    "8) в отдельной ячейке опишите как изменилась модель (приведите несколько тем, которые стали лучше или хуже, или которых раньше вообще не было; можно привести значения перплексии и когерентности для обеих моделей)\n",
    "\n",
    "9) проделайте такие же действия для NMF (образец в конце тетрадки), для построения словаря воспользуйтесь возможностями Count или Tfidf Vectorizer (попробуйте другие значение max_features, min_df, max_df, сделайте нграмы через ngram_range, если хватает памяти), попробуйте такие же количества тем\n",
    "\n",
    "10) в отдельной ячейки напечатайте таблицу с темами лучшей NMF модели, сравните их с теми, что получились в LDA.\n",
    "\n",
    "Сохраните тетрадку с экспериментами и положите её на гитхаб, ссылку на неё укажите в форме.\n",
    "\n",
    "**Оцениваться будут главным образом пункты 5, 8 и 10. (2, 3, 2 баллов соответственно). Чтобы заработать остальные 3 балла, нужно хотя бы немного изменить мой код на промежуточных этапах (добавить что-то, указать другие параметры и т.д). **"
   ]
  },
  {
   "cell_type": "markdown",
   "metadata": {},
   "source": [
    "## Данные"
   ]
  },
  {
   "cell_type": "code",
   "execution_count": 3,
   "metadata": {
    "collapsed": true
   },
   "outputs": [],
   "source": [
    "def remove_tags(text):\n",
    "    return re.sub(r'<[^>]+>', '', text)\n",
    "\n",
    "def clean(words):\n",
    "    clean = [morph.parse(word)[0].normal_form for word in words if len(set(word)) > 1]\n",
    "    return clean"
   ]
  },
  {
   "cell_type": "markdown",
   "metadata": {},
   "source": [
    "Возьмем 4 тыс статьи с Хабра. Это мало для хорошей тематической модели, но иначе у нас просто ничего не обучится за семинар."
   ]
  },
  {
   "cell_type": "code",
   "execution_count": 4,
   "metadata": {
    "collapsed": true
   },
   "outputs": [],
   "source": [
    "texts = open('habr_texts.txt', encoding='utf-8').read().splitlines()"
   ]
  },
  {
   "cell_type": "code",
   "execution_count": 5,
   "metadata": {
    "collapsed": true
   },
   "outputs": [],
   "source": [
    "from collections import Counter"
   ]
  },
  {
   "cell_type": "code",
   "execution_count": 39,
   "metadata": {
    "collapsed": true
   },
   "outputs": [],
   "source": [
    "f = open('habr_texts.vw', 'w',  encoding='utf-8')\n",
    "\n",
    "for i, text in enumerate(texts):\n",
    "    c = Counter(text)\n",
    "    doc = 'doc_'+ str(i) + ' '\n",
    "    vw_text = ' '.join([x+':'+str(c[x]) for x in c])\n",
    "    \n",
    "    f.write(doc + vw_text  + '\\n')\n",
    "f.close()\n",
    "\n"
   ]
  },
  {
   "cell_type": "code",
   "execution_count": 157,
   "metadata": {
    "scrolled": true
   },
   "outputs": [],
   "source": [
    "#print(texts[1])"
   ]
  },
  {
   "cell_type": "markdown",
   "metadata": {},
   "source": [
    "В текстах есть тэги. Потрем их. Ещё токенизируем самым простым способом и нормализуем Pymorphy."
   ]
  },
  {
   "cell_type": "code",
   "execution_count": 41,
   "metadata": {},
   "outputs": [
    {
     "ename": "AttributeError",
     "evalue": "'list' object has no attribute 'lower'",
     "output_type": "error",
     "traceback": [
      "\u001b[1;31m---------------------------------------------------------------------------\u001b[0m",
      "\u001b[1;31mAttributeError\u001b[0m                            Traceback (most recent call last)",
      "\u001b[1;32m<ipython-input-41-084bb78fe23d>\u001b[0m in \u001b[0;36m<module>\u001b[1;34m()\u001b[0m\n\u001b[1;32m----> 1\u001b[1;33m \u001b[0mtexts\u001b[0m \u001b[1;33m=\u001b[0m \u001b[1;33m[\u001b[0m\u001b[0mclean\u001b[0m\u001b[1;33m(\u001b[0m\u001b[0mword_tokenize\u001b[0m\u001b[1;33m(\u001b[0m\u001b[0mtext\u001b[0m\u001b[1;33m.\u001b[0m\u001b[0mlower\u001b[0m\u001b[1;33m(\u001b[0m\u001b[1;33m)\u001b[0m\u001b[1;33m)\u001b[0m\u001b[1;33m)\u001b[0m \u001b[1;32mfor\u001b[0m \u001b[0mtext\u001b[0m \u001b[1;32min\u001b[0m \u001b[0mtexts\u001b[0m\u001b[1;33m]\u001b[0m\u001b[1;33m\u001b[0m\u001b[0m\n\u001b[0m",
      "\u001b[1;32m<ipython-input-41-084bb78fe23d>\u001b[0m in \u001b[0;36m<listcomp>\u001b[1;34m(.0)\u001b[0m\n\u001b[1;32m----> 1\u001b[1;33m \u001b[0mtexts\u001b[0m \u001b[1;33m=\u001b[0m \u001b[1;33m[\u001b[0m\u001b[0mclean\u001b[0m\u001b[1;33m(\u001b[0m\u001b[0mword_tokenize\u001b[0m\u001b[1;33m(\u001b[0m\u001b[0mtext\u001b[0m\u001b[1;33m.\u001b[0m\u001b[0mlower\u001b[0m\u001b[1;33m(\u001b[0m\u001b[1;33m)\u001b[0m\u001b[1;33m)\u001b[0m\u001b[1;33m)\u001b[0m \u001b[1;32mfor\u001b[0m \u001b[0mtext\u001b[0m \u001b[1;32min\u001b[0m \u001b[0mtexts\u001b[0m\u001b[1;33m]\u001b[0m\u001b[1;33m\u001b[0m\u001b[0m\n\u001b[0m",
      "\u001b[1;31mAttributeError\u001b[0m: 'list' object has no attribute 'lower'"
     ]
    }
   ],
   "source": [
    "texts = [clean(word_tokenize(text.lower())) for text in texts]"
   ]
  },
  {
   "cell_type": "code",
   "execution_count": 42,
   "metadata": {
    "collapsed": true
   },
   "outputs": [],
   "source": [
    "# для нграммов\n",
    "ph = gensim.models.Phrases(texts, scoring='npmi', threshold=0.9) # threshold можно подбирать\n",
    "p = gensim.models.phrases.Phraser(ph)\n",
    "ngrammed_texts = p[texts]"
   ]
  },
  {
   "cell_type": "code",
   "execution_count": 43,
   "metadata": {},
   "outputs": [
    {
     "name": "stdout",
     "output_type": "stream",
     "text": [
      "['masstransit', 'это', 'open', 'source', 'библиотека', 'разработать', 'на', 'язык', 'для', '.net', 'платформа', 'упрощать', 'работа', 'шина', 'дать', 'который', 'использоваться', 'при', 'построение', 'распределенный', 'приложение', 'реализация', 'soa', 'service', 'oriented', 'architecture', 'качество', 'message', 'broker', 'мочь', 'выступать', 'rabbitmq', 'azure', 'service', 'bus', 'или', 'in-memory', 'менеджер', 'случай', 'in-memory', 'область', 'видимость', 'ограничиваться', 'процесс', 'который', 'проинициализировать', 'экземпляр', '.содержание', 'команда', 'событиякоманда', 'событие', 'контракт', 'сообщение', 'роутингexchange', 'формат', 'сообщение', 'консьюмер', 'consumer', 'конфигурация', 'контейнер', 'di', 'наблюдатель', 'observer', 'новое', 'masstransit', '3.0', 'заключение', 'опрос', 'какой', '.net', 'библиотека', 'использовать', 'вы', 'команда', 'событие', 'библиотека', 'заложить', 'основный', 'тип', 'сообщение', 'команда', 'события.команда', 'сигнализировать', 'необходимость', 'выполнить', 'некий', 'действие', 'для', 'наиболее', 'содержательный', 'наименование', 'команда', 'желательно', 'использовать', 'структура', 'глагол', 'существительное', 'estimateconnection_sendsms', 'notifycustomerorderprocessed', 'работа', 'команда', 'осуществляться', 'помощь', 'метод', 'send', 'интерфейс', 'isendendpoint', 'указание', 'получатель', 'endpoint', 'очередь', 'отправка', 'командыprivate', 'static', 'async', 'task', 'sendsmscommand', 'ibus', 'buscontrol', 'var', 'command', 'new', 'sendsmscommand', 'commandid', 'guid.newguid', 'phonenumber', '89031112233', 'message', 'thank', 'you', 'for', 'your', 'reply', 'var', 'endpoint', 'await', 'buscontrol.getsendendpoint_appsettings.commandendpoint', 'await', 'endpoint.send', 'command', 'событие', 'сигнализировать', 'случиться', 'событие', 'который', 'мочь', 'быть', 'интересно', 'некий', 'набор', 'подписчик', 'паттерн', 'observer', 'который', 'на', 'этот', 'событие', 'реагировать', 'например', 'connectionestimated_callterminated', 'smssent_customernotified', 'работа', 'событие', 'осуществляться', 'помощь', 'метод', 'publish', 'интерфейс', 'ipublishendpoint', 'терминология', 'заложить', 'основный', 'различие', 'этот', 'тип', 'сообщение', 'команда', 'доставляться', 'единственный', 'исполнитель', 'даба', 'избежать', 'дублирование', 'выполнение', 'изображение', 'из', 'статья', 'masstransit', 'send', 'vs.', 'publish', 'то', 'время', 'как', 'событие', 'ориентировать', 'на', 'оповещение', 'n-подписчик', 'каждый', 'из', 'который', 'реагировать', 'на', 'случиться', 'событие', 'по-своему', 'изображение', 'из', 'статья', 'masstransit', 'send', 'vs.', 'publish', 'иной', 'слово', 'при', 'запустить', 'n-консьюмер', 'от', 'англ', 'consumer', 'потребитель', 'обработчик', 'обрабатывать', 'команда', 'после', 'её', 'публикация', 'только', 'один', 'из', 'они', 'получить', 'сообщение', 'она', 'то', 'время', 'как', 'сообщение', 'событие', 'получить', 'каждый.контракт', 'сообщение', 'согласно', 'документация', 'masstransit', 'при', 'объявление', 'контракт', 'сообщение', 'рекомендоваться', 'прибегать', 'интерфейс', 'контракт', 'команда', 'на', 'отправка', 'смс', 'сообщенияpublic', 'interface', 'isendsms', 'guid', 'commandid', 'get', 'string', 'phonenumber', 'get', 'string', 'message', 'get', 'как', 'упоминаться', 'ранее', 'отправка', 'команда', 'должный', 'осуществляться', 'исключительно', 'помощь', 'метод', 'send', 'интерфейс', 'ibus', 'указание', 'адресат', 'endpoint', '.контракт', 'событие', 'о', 'успешный', 'отправка', 'смс', 'сообщенияpublic', 'interface', 'ismssent', 'guid', 'eventid', 'get', 'datetime', 'sentatutc', 'get', 'событие', 'отправляться', 'помощь', 'метод', 'publish.роутинг', 'как', 'распределение', 'сообщение', 'по', 'exchange', 'так', 'выбор', 'консьюмер', 'они', 'этот', 'статья', 'быть', 'рассказать', 'чуть', 'поздний', 'для', 'обработка', 'базироваться', 'на', 'runtime', 'тип', 'этот', 'сообщение', 'наименование', 'использоваться', 'namespace', 'имя', 'тип', 'случай', 'generic', 'имя', 'родительский', 'тип', 'перечень', 'аргументов.exchange', 'при', 'конфигурация', 'receive', 'endpoint', 'подключение', 'ранее', 'зарегистрировать', 'консьюмер', 'случай', 'использование', 'качество', 'канал', 'доставка', 'сообщение', 'rabbitmq', 'на', 'основание', 'указанный', 'обработка', 'консьюмер', 'тип', 'сообщение', 'формироваться', 'наименование', 'требовать', 'exchange', 'который', 'затем', 'этот', 'самый', 'сообщение', 'быть', 'помещаться', 'аналогичный', 'действие', 'на', 'этап', 'конфигурация', 'send', 'endpoint', 'выполняться', 'для', 'команда', 'для', 'отправка', 'который', 'также', 'требоваться', 'собственный', 'exchange', 'на', 'изображение', 'можно', 'увидеть', 'создать', 'рамка', 'мой', 'сценарий', 'exchange', 'тот', 'случай', 'если', 'конфигурировать', 'receive', 'endpoint', 'мы', 'указывать', 'наименование', 'очередь', 'cfg.receiveendpoint', 'host', 'play_with_masstransit_queue', 'gt', 'e.loadfrom', 'container', 'то', 'привязка', 'exchange', 'сообщение', 'можно', 'быть', 'увидеть', 'следующий', 'картина', 'итоговый', 'путь', 'сообщение', 'тип', 'который', 'имплементировать', 'ismsevent', 'быть', 'иметь', 'следующий', 'вид', 'если', 'же', 'конфигурация', 'осуществляться', 'без', 'указание', 'очередь', 'cfg.receiveendpoint', 'host', 'e=', 'gt', 'e.loadfrom', 'container', 'то', 'имя', 'для', 'последний', 'exchange', 'очередь', 'формироваться', 'автоматически', 'по', 'завершение', 'работа', 'они', 'быть', 'удалить', 'формат', 'сообщение', 'говорить', 'формат', 'сообщение', 'хотеться', 'бы', 'дробный', 'остановиться', 'на', 'наименование', 'или', 'messagetype', 'за', 'он', 'формирование', 'заголовок', 'urn', 'message', 'ответственный', 'функция', 'geturnfortype', 'type', 'type', 'для', 'пример', 'добавить', 'для', 'команда', 'isendsms', 'наследование', 'от', 'icommand', 'generic', 'тип', 'контракт', 'команда', 'на', 'отправка', 'смс', 'сообщение', 'icommand', 'lt', 'string', 'gt', 'public', 'interface', 'icommand', 'lt', 'gt', 'public', 'interface', 'isendsms', 'lt', 'gt', 'icommand', 'lt', 'gt', 'guid', 'commandid', 'get', 'string', 'phonenumber', 'get', 'string', 'message', 'get', 'class', 'sendsmscommand', 'isendsms', 'lt', 'string', 'gt', 'public', 'guid', 'commandid', 'get', 'set', 'public', 'string', 'phonenumber', 'get', 'set', 'public', 'string', 'message', 'get', 'set', 'сформировать', 'сообщение', 'такой', 'случай', 'быть', 'содержимый', 'следующий', 'значение', 'пол', 'messagetype', 'на', 'основание', 'который', 'после', 'получение', 'сообщение', 'затем', 'выбираться', 'ответственный', 'за', 'обработка', 'консьюмер', 'messagetype', 'urn', 'message', 'playwithmasstransit30.extension', 'sendsmscommand', 'urn', 'message', 'playwithmasstransit30.contract.command', 'isendsms', 'system', 'string', 'urn', 'message', 'playwithmasstransit30.contract.command', 'icommand', 'system', 'string', 'кроме', 'messagetype', 'сообщение', 'содержимый', 'информация', 'host', 'который', 'оно', 'быть', 'отправить', 'host', 'machinename_desktop-si9ohur', 'processname_playwithmasstransit30.vshost', 'processid', '1092', 'assembly', 'playwithmasstransit30_assemblyversion', '1.0.0.0_frameworkversion', '4.0.30319.42000_masstransitversion', '3.4.1.808_operatingsystemversion', 'microsoft', 'windows', 'nt', '6.2.9200.0', 'значимый', 'часть', 'payload', 'message', 'commandid', '7388f663-82dc-403a-8bf9-8952f2ff262e', 'phonenumber', '89031112233', 'message', 'thank', 'you', 'for', 'your', 'reply', 'иной', 'служебный', 'поль', 'заголовки.консьюмер', 'consumer', 'консьюмер', 'это', 'класс', 'который', 'обрабатывать', 'один', 'или', 'несколько', 'тип', 'сообщение', 'указывать', 'при', 'объявление', 'наследование', 'интерфейс', 'iconsumer', 'где', 'это', 'тип', 'обрабатывать', 'данные', 'консьюмер', 'сообщение', 'пример', 'консьюмер', 'обрабатывать', 'команда', 'isendsms', 'публиковать', 'событие', 'ismssent', 'sendsmsconsumer', 'обработчик', 'команда', 'на', 'отправка', 'сообщенияpublic', 'class', 'sendsmsconsumer', 'iconsumer', 'lt', 'isendsms', 'lt', 'string', 'gt', 'gt', 'public', 'sendsmsconsumer', 'ibuscontrol', 'buscontrol', '_buscontrol', 'buscontrol', 'public', 'async', 'task', 'consume', 'consumecontext', 'lt', 'isendsms', 'lt', 'string', 'gt', 'gt', 'context', 'var', 'message', 'context.message', 'console.writeline', 'iconsumer', 'lt', 'isendsms', 'gt', 'send', 'sms', 'command', 'consumed', 'console.writeline', 'iconsumer', 'lt', 'isendsms', 'gt', 'commandid', 'message.commandid', 'console.writeline', 'iconsumer', 'lt', 'isendsms', 'gt', 'phone', 'number', 'message.phonenumber', 'console.writeline', 'iconsumer', 'lt', 'isendsms', 'gt', 'message', 'message.message_console.write', 'environment.newline', 'console.writeline', 'публикация', 'событие', 'смс', 'сообщение', 'отправить', 'await', '_buscontrol.smssent_datetime.utcnow', 'private', 'readonly', 'ibus', '_buscontrol', 'после', 'тот', 'как', 'мы', 'получить', 'команда', 'на', 'отправка', 'смс', 'сообщение', 'выполнить', 'требовать', 'действие', 'мы', 'формировать', 'отправлять', 'событие', 'тот', 'что', 'смс', 'доставить', 'код', 'отправка', 'сообщение', 'вынести', 'отдельный', 'extension', 'класс', 'над', 'ibuscontrol', 'там', 'же', 'находиться', 'имплементация', 'сам', 'сообщение', 'метод', 'расширение', 'над', 'ibus', 'для', 'инкапсуляция', 'логика', 'межсистемный_взаимодействияpublic', 'static', 'class', 'busextensions', 'lt', 'summary', 'gt', 'отправка', 'смс', 'сообщение', 'lt', '/summary', 'gt', 'lt', 'param', 'name=', 'bus', 'gt', 'lt', '/param', 'gt', 'lt', 'param', 'name=', 'host', 'gt', 'lt', '/param', 'gt', 'lt', 'param', 'name=', 'phonenumber', 'gt', 'lt', '/param', 'gt', 'lt', 'param', 'name=', 'message', 'gt', 'lt', '/param', 'gt', 'lt', 'returns', 'gt', 'lt', '/returns', 'gt', 'public', 'static', 'async', 'task', 'sendsms', 'this', 'ibus', 'bus', 'uri', 'host', 'string', 'phonenumber', 'string', 'message', 'var', 'command', 'new', 'sendsmscommand', 'commandid', 'guid.newguid', 'phonenumber', 'phonenumber', 'message', 'message', 'await', 'bus.sendcommand', 'host', 'command', 'lt', 'summary', 'gt', 'публикация', 'событие', 'о', 'отправка', 'смс', 'сообщение', 'lt', '/summary', 'gt', 'lt', 'param', 'name=', 'bus', 'gt', 'lt', '/param', 'gt', 'lt', 'param', 'name=', 'sentatutc', 'gt', 'lt', '/param', 'gt', 'lt', 'returns', 'gt', 'lt', '/returns', 'gt', 'public', 'static', 'async', 'task', 'smssent', 'this', 'ibus', 'bus', 'datetime', 'sentatutc', 'var', 'event', 'new', 'smssentevent', 'eventid', 'guid.newguid', 'sentatutc', 'sentatutc', 'await', 'bus.publishevent', 'event', 'lt', 'summary', 'gt', 'отправка', 'команда', 'lt', '/summary', 'gt', 'lt', 'typeparam', 'name=', 'gt', 'lt', '/typeparam', 'gt', 'lt', 'param', 'name=', 'bus', 'gt', 'lt', '/param', 'gt', 'lt', 'param', 'name=', 'address', 'gt', 'lt', '/param', 'gt', 'lt', 'param', 'name=', 'command', 'gt', 'lt', '/param', 'gt', 'lt', 'returns', 'gt', 'lt', '/returns', 'gt', 'private', 'static', 'async', 'task', 'sendcommand', 'lt', 'gt', 'this', 'ibus', 'bus', 'uri', 'address', 'command', 'where', 'class', 'var', 'endpoint', 'await', 'bus.getsendendpoint', 'address', 'await', 'endpoint.send', 'command', 'lt', 'summary', 'gt', 'публикация', 'событие', 'lt', '/summary', 'gt', 'lt', 'typeparam', 'name=', 'gt', 'lt', '/typeparam', 'gt', 'lt', 'param', 'name=', 'bus', 'gt', 'lt', '/param', 'gt', 'lt', 'param', 'name=', 'message', 'gt', 'lt', '/param', 'gt', 'lt', 'returns', 'gt', 'lt', '/returns', 'gt', 'private', 'static', 'async', 'task', 'publishevent', 'lt', 'gt', 'this', 'ibus', 'bus', 'message', 'where', 'class', 'await', 'bus.publish', 'message', 'class', 'sendsmscommand', 'isendsms', 'lt', 'string', 'gt', 'public', 'guid', 'commandid', 'get', 'set', 'public', 'string', 'phonenumber', 'get', 'set', 'public', 'string', 'message', 'get', 'set', 'class', 'smssentevent', 'ismssent', 'public', 'guid', 'eventid', 'get', 'set', 'public', 'datetime', 'sentatutc', 'get', 'set', 'на', 'мой', 'взгляд', 'данный', 'решение', 'вполне', 'удачно', 'позволять', 'отделить', 'код', 'бизнес-логика', 'от', 'деталь', 'реализация', 'межсистемный', 'компонентный', 'взаимодействие', 'инкапсулировать', 'они', 'один', 'месте.конфигурация', 'контейнер', 'di', 'на', 'данный', 'момент', 'masstransit', 'предоставлять', 'возможность', 'использовать', 'следующий', 'популярный', 'контейнер', 'autofac', 'ninject', 'structuremap', 'unity', 'castle_windsor', 'случай', 'unitycontainer', 'потребоваться', 'установить', 'nuget', 'package', 'masstransit.unity', 'после', 'что', 'стать', 'доступный', 'метод', 'расширение', 'loadfrom', 'public', 'static', 'class', 'unityextensions', 'public', 'static', 'void', 'loadfrom', 'this', 'ireceiveendpointconfigurator', 'configurator', 'iunitycontainer', 'container', 'пример', 'использование', 'выглядеть', 'следующий', 'образ', 'конфигурация', 'ibuscontrol', 'помощь', 'unitycontainerpublic', 'static', 'ibuscontrol', 'getconfiguredfactory_iunitycontainer', 'container', 'if', 'container', 'null', 'throw', 'new', 'argumentnullexception', 'nameof', 'container', 'var', 'control', 'bus.factory.createusingrabbitmq', 'cfg', 'gt', 'var', 'host', 'cfg.host_appsettings.host', 'gt', 'cfg.receiveendpoint', 'host', 'gt', 'e.loadfrom', 'container', 'cfg.receiveendpoint', 'host', 'play_with_masstransit_queue', 'gt', 'e.loadfrom', 'container', 'control.connectconsumeobserver', 'new', 'consumeobserver', 'control.connectreceiveobserver', 'new', 'receiveobserver_control.connectconsumemessageobserver', 'new', 'consumeobserversendsmscommand_control.connectsendobserver', 'new', 'sendobserver_control.connectpublishobserver', 'new', 'publishobserver', 'return', 'control', 'качество', 'срок', 'жизнь', 'консьюмер', 'контейнер', 'документация', 'предлагать', 'использовать', 'containercontrolledlifetimemanager_.наблюдатель', 'observer', 'для', 'мониторинг', 'процесс', 'обработка', 'сообщение', 'доступно', 'подключение', 'наблюдатель', 'observer', 'для', 'это', 'masstransit', 'предоставлять', 'следующий', 'набор', 'интерфейс', 'для', 'обработчик', 'ireceiveobserver-', 'срабатывать', 'сразу', 'же', 'после', 'получение', 'сообщение', 'создание', 'recievecontext_iconsumeobserver', 'срабатывать', 'после', 'создание', 'consumecontext', 'iconsumemessageobserver', 'lt', 'gt', 'для', 'наблюдение', 'за', 'сообщение', 'тип', 'метод', 'который', 'быть', 'доступно', 'строго-типизировать', 'содержимое', 'сообщение', 'isendobserver', 'для', 'наблюдение', 'за', 'отправлять', 'команда', 'ipublishobserver', 'для', 'наблюдение', 'за', 'отправлять', 'событие', 'для', 'каждый', 'из', 'они', 'интерфейс', 'ibuscontrol', 'предоставлять', 'собственный', 'метод', 'подключение', 'выполнение', 'который', 'должный', 'быть', 'осуществить', 'непосредственно', 'перед', 'ibuscontrol.start', 'качество', 'пример', 'далее', 'представить', 'реализация', 'consumeobserver', 'реализация', 'iconsumeobseverpublic', 'class', 'consumeobserver', 'iconsumeobserver', 'public', 'task', 'preconsume', 'lt', 'gt', 'consumecontext', 'lt', 'gt', 'context', 'where', 'class', 'console.writeline', 'consumeobserver', 'preconsume', 'context.messageid', 'return', 'task.completedtask', 'public', 'task', 'postconsume', 'lt', 'gt', 'consumecontext', 'lt', 'gt', 'context', 'where', 'class', 'console.writeline', 'consumeobserver', 'postconsume', 'context.messageid', 'return', 'task.completedtask', 'public', 'task', 'consumefault', 'lt', 'gt', 'consumecontext', 'lt', 'gt', 'context', 'exception', 'exception', 'where', 'class', 'console.writeline', 'consumeobserver', 'consumefault', 'context.messageid', 'return', 'task.completedtask', 'не', 'быть', 'приводить', 'код', 'каждый', 'из', 'консьюмер', 'т.к', 'по', 'принцип', 'работа', 'структура', 'они', 'схожий', 'имплементация', 'каждый', 'из', 'они', 'можно', 'посмотреть', 'документация', 'или', 'исходник', 'на', 'github', 'итоговый', 'pipeline', 'получение', 'команда', 'на', 'отправка', 'смс', 'сообщение', 'её', 'обработка', 'публикация', 'событие', 'её', 'успешный', 'выполнение', 'выглядеть', 'следующий', 'образ', 'новое', 'masstransit', '3.0', 'изменение', 'который', 'коснуться', 'новый', 'версия', 'библиотека', 'вы', 'мочь', 'ознакомиться', '2-х', 'обзорный', 'статья', 'автор', 'библиотека', 'chris', 'patterson', 'на', 'страница', 'он', 'блог', 'masstransit', 'api', 'changes', 'masstransit', 'v3', 'update.заключение', 'здесь', 'должный', 'быть', 'быть', 'сравнение', 'наиболее', 'популярный', 'библиотека', 'для', 'работа', 'очередь', 'сообщение', 'однако', 'решить', 'оставить', 'это', 'для', 'отдельный', 'статья', 'надеяться', 'я', 'удаться', 'провести', 'для', 'вы', 'поверхностный', 'знакомство', 'библиотека', 'masstransit', 'за', 'грань', 'который', 'ещё', 'оставаться', 'такой', 'интересный', 'вещий', 'как', 'транзакционность', 'персистентность', 'интеграция', 'nhibernate_mondodb', 'entityframework', 'планировщик', 'отправка', 'сообщение', 'интеграция', 'quartz', 'state', 'machine', 'automatonymous', 'saga', 'логирование', 'log4net', 'nlog', 'многопоточность', 'многий', 'другой', 'исходный', 'код', 'пример', 'доступный', 'на', 'github.использовать', 'материал', 'документация', 'masstransit']\n"
     ]
    },
    {
     "name": "stderr",
     "output_type": "stream",
     "text": [
      "C:\\Users\\Asus\\Anaconda3\\envs\\mllecture\\lib\\site-packages\\gensim\\models\\phrases.py:486: UserWarning: For a faster implementation, use the gensim.models.phrases.Phraser class\n",
      "  warnings.warn(\"For a faster implementation, use the gensim.models.phrases.Phraser class\")\n"
     ]
    }
   ],
   "source": [
    "txt09 = print(ph[texts[0]])"
   ]
  },
  {
   "cell_type": "markdown",
   "metadata": {},
   "source": [
    "### Удаление стопслов"
   ]
  },
  {
   "cell_type": "code",
   "execution_count": 111,
   "metadata": {
    "collapsed": true
   },
   "outputs": [],
   "source": [
    "from nltk.corpus import stopwords\n",
    " \n",
    "def no_stops(texts): \n",
    "    #deleting stop_words\n",
    "    texts_new = []\n",
    "    stop_words = stopwords.words('russian')\n",
    "    stop_words.extend(['что', 'это', 'так', 'вот', 'быть', 'как', 'в', 'к', 'на', 'ваш' 'the', 'if', 'gt', 'ip', 'rm', 'int', 'http','lt', 'of', 'in', 'at'])\n",
    "    for text in texts:\n",
    "        text_new = [word for word in text if ( word not in stop_words )]\n",
    "        texts_new.append(text_new)\n",
    "    return texts_new"
   ]
  },
  {
   "cell_type": "code",
   "execution_count": 112,
   "metadata": {
    "collapsed": true
   },
   "outputs": [],
   "source": [
    "texts_nostops = no_stops(texts)"
   ]
  },
  {
   "cell_type": "markdown",
   "metadata": {},
   "source": [
    "### Тематическое моделирование в gensim"
   ]
  },
  {
   "cell_type": "markdown",
   "metadata": {},
   "source": [
    "Для моделей нужно сделать словарь."
   ]
  },
  {
   "cell_type": "code",
   "execution_count": 149,
   "metadata": {
    "collapsed": true
   },
   "outputs": [],
   "source": [
    "dictinary = gensim.corpora.Dictionary(texts_nostops)"
   ]
  },
  {
   "cell_type": "code",
   "execution_count": 150,
   "metadata": {
    "collapsed": true
   },
   "outputs": [],
   "source": [
    "dictinary.filter_extremes(no_above=0.4, no_below=40)\n",
    "dictinary.compactify()"
   ]
  },
  {
   "cell_type": "code",
   "execution_count": 152,
   "metadata": {},
   "outputs": [
    {
     "name": "stdout",
     "output_type": "stream",
     "text": [
      "Dictionary(6194 unique tokens: ['тело', 'подойти', 'угол', 'оплачивать', 'нередко']...)\n"
     ]
    }
   ],
   "source": [
    "print(dictinary)"
   ]
  },
  {
   "cell_type": "markdown",
   "metadata": {},
   "source": [
    "Преобразуем наши тексты в мешки слов. "
   ]
  },
  {
   "cell_type": "code",
   "execution_count": 116,
   "metadata": {
    "collapsed": true
   },
   "outputs": [],
   "source": [
    "#corpus = [dictinary.doc2bow(text) for text in texts]\n",
    "# если текстов много, то тут может быть генератор"
   ]
  },
  {
   "cell_type": "code",
   "execution_count": 153,
   "metadata": {},
   "outputs": [],
   "source": [
    "tfidf = (gensim.models.TfidfModel(corpus, id2word=dictinary))    "
   ]
  },
  {
   "cell_type": "code",
   "execution_count": 154,
   "metadata": {
    "collapsed": true
   },
   "outputs": [],
   "source": [
    "corpus = tfidf[corpus]"
   ]
  },
  {
   "cell_type": "code",
   "execution_count": 155,
   "metadata": {
    "scrolled": true
   },
   "outputs": [],
   "source": [
    "lda = gensim.models.LdaMulticore(corpus, 70, id2word=dictinary, passes=10)"
   ]
  },
  {
   "cell_type": "markdown",
   "metadata": {},
   "source": [
    "Посмотрим на топики."
   ]
  },
  {
   "cell_type": "markdown",
   "metadata": {},
   "source": [
    "### Без tfidf"
   ]
  },
  {
   "cell_type": "code",
   "execution_count": 135,
   "metadata": {
    "scrolled": true
   },
   "outputs": [],
   "source": [
    "besttopics = lda.print_topics()"
   ]
  },
  {
   "cell_type": "markdown",
   "metadata": {},
   "source": [
    "В целом по-моему получилось довольно неплохо, поэтому выбрать было тяжело. Все темы, получившиеся после отработки модели бещ tfidf я сохранила в переменную besttopics.\n",
    "Три из них, которые понравились мне больше всего, ниже:"
   ]
  },
  {
   "cell_type": "markdown",
   "metadata": {},
   "source": [
    "#### Программрование"
   ]
  },
  {
   "cell_type": "markdown",
   "metadata": {},
   "source": [
    " (21,\n",
    "  '0.017*\"код\" + 0.016*\"язык\" + 0.013*\"функция\" + 0.011*\"тип\" + 0.009*\"объект\" + 0.009*\"класс\" + 0.007*\"метод\" + 0.006*\"swift\" + 0.005*\"реализация\" + 0.005*\"значение\"')"
   ]
  },
  {
   "cell_type": "markdown",
   "metadata": {},
   "source": [
    "#### Мобильные приложения"
   ]
  },
  {
   "cell_type": "markdown",
   "metadata": {},
   "source": [
    " (40,\n",
    "  '0.096*\"приложение\" + 0.051*\"android\" + 0.023*\"устройство\" + 0.014*\"мобильный\" + 0.013*\"google\" + 0.011*\"ios\" + 0.010*\"сообщение\" + 0.009*\"экран\" + 0.009*\"app\" + 0.007*\"ваш\"')"
   ]
  },
  {
   "cell_type": "markdown",
   "metadata": {},
   "source": [
    "#### Медицина"
   ]
  },
  {
   "cell_type": "markdown",
   "metadata": {},
   "source": [
    "\n",
    " (65,\n",
    "  '0.015*\"мозг\" + 0.011*\"глаз\" + 0.008*\"клетка\" + 0.007*\"пациент\" + 0.007*\"операция\" + 0.005*\"боль\" + 0.005*\"ген\" + 0.005*\"животное\" + 0.005*\"организм\" + 0.004*\"лазер\"')"
   ]
  },
  {
   "cell_type": "markdown",
   "metadata": {},
   "source": [
    "И все получившиеся после обучения лучшей модели без tfidf ниже"
   ]
  },
  {
   "cell_type": "code",
   "execution_count": 139,
   "metadata": {
    "scrolled": true
   },
   "outputs": [
    {
     "data": {
      "text/plain": [
       "[(68,\n",
       "  '0.016*\"пакет\" + 0.010*\"адрес\" + 0.008*\"сеть\" + 0.007*\"сетевой\" + 0.007*\"очередь\" + 0.007*\"файл\" + 0.007*\"маршрутизатор\" + 0.006*\"протокол\" + 0.006*\"маршрут\" + 0.006*\"команда\"'),\n",
       " (28,\n",
       "  '0.017*\"товар\" + 0.009*\"элемент\" + 0.009*\"устройство\" + 0.008*\"питание\" + 0.007*\"батарея\" + 0.007*\"аккумулятор\" + 0.006*\"искажение\" + 0.006*\"оборудование\" + 0.005*\"характеристика\" + 0.005*\"100\"'),\n",
       " (67,\n",
       "  '0.026*\"устройство\" + 0.014*\"кабель\" + 0.014*\"usb\" + 0.010*\"порт\" + 0.009*\"беспроводный\" + 0.008*\"php\" + 0.007*\"файл\" + 0.007*\"компьютер\" + 0.007*\"ноутбук\" + 0.006*\"oracle\"'),\n",
       " (33,\n",
       "  '0.013*\"for\" + 0.012*\"значение\" + 0.011*\"массив\" + 0.011*\"код\" + 0.009*\"число\" + 0.009*\"тип\" + 0.008*\"цикл\" + 0.008*\"память\" + 0.008*\"метод\" + 0.007*\"double\"'),\n",
       " (32,\n",
       "  '0.039*\"public\" + 0.028*\"new\" + 0.026*\"return\" + 0.026*\"string\" + 0.021*\"void\" + 0.018*\"private\" + 0.017*\"метод\" + 0.015*\"класс\" + 0.014*\"val\" + 0.013*\"null\"'),\n",
       " (60,\n",
       "  '0.054*\"amp\" + 0.013*\"return\" + 0.011*\"char\" + 0.011*\"код\" + 0.011*\"функция\" + 0.009*\"include\" + 0.009*\"for\" + 0.007*\"const\" + 0.007*\"struct\" + 0.006*\"void\"'),\n",
       " (13,\n",
       "  '0.016*\"тестирование\" + 0.016*\"тест\" + 0.016*\"клиент\" + 0.010*\"продукт\" + 0.008*\"интерфейс\" + 0.005*\"команда\" + 0.005*\"ваш\" + 0.005*\"тестовый\" + 0.004*\"ошибка\" + 0.004*\"тестировать\"'),\n",
       " (2,\n",
       "  '0.015*\"локализация\" + 0.014*\"строка\" + 0.011*\"язык\" + 0.011*\"блок\" + 0.010*\"график\" + 0.009*\"код\" + 0.008*\"игра\" + 0.008*\"комментарий\" + 0.007*\"текст\" + 0.007*\"функция\"'),\n",
       " (20,\n",
       "  '0.039*\"письмо\" + 0.026*\"домен\" + 0.020*\"почта\" + 0.017*\"почтовый\" + 0.016*\"email\" + 0.015*\"ваш\" + 0.014*\"электронный\" + 0.014*\"адрес\" + 0.014*\"рассылка\" + 0.009*\"сообщение\"'),\n",
       " (26,\n",
       "  '0.019*\"сигнал\" + 0.016*\"космический\" + 0.011*\"спутник\" + 0.010*\"полёт\" + 0.010*\"аппарат\" + 0.008*\"станция\" + 0.008*\"корабль\" + 0.008*\"космос\" + 0.007*\"орбита\" + 0.007*\"ракета\"'),\n",
       " (42,\n",
       "  '0.020*\"устройство\" + 0.016*\"драйвер\" + 0.013*\"root\" + 0.010*\"фильтр\" + 0.009*\"управление\" + 0.009*\"уровень\" + 0.008*\"камера\" + 0.007*\"ввод-вывод\" + 0.006*\"индикатор\" + 0.005*\"аналоговый\"'),\n",
       " (39,\n",
       "  '0.080*\"std\" + 0.038*\"const\" + 0.032*\"class\" + 0.028*\"template\" + 0.027*\"amp\" + 0.020*\"регистр\" + 0.019*\"then\" + 0.018*\"property\" + 0.017*\"return\" + 0.014*\"callback\"'),\n",
       " (18,\n",
       "  '0.022*\"исследование\" + 0.021*\"анализ\" + 0.016*\"программа\" + 0.013*\"доказательство\" + 0.013*\"метод\" + 0.011*\"дефект\" + 0.011*\"код\" + 0.010*\"тема\" + 0.010*\"исследователь\" + 0.009*\"камера\"'),\n",
       " (65,\n",
       "  '0.015*\"мозг\" + 0.011*\"глаз\" + 0.008*\"клетка\" + 0.007*\"пациент\" + 0.007*\"операция\" + 0.005*\"боль\" + 0.005*\"ген\" + 0.005*\"животное\" + 0.005*\"организм\" + 0.004*\"лазер\"'),\n",
       " (56,\n",
       "  '0.044*\"игра\" + 0.015*\"игрок\" + 0.007*\"игровой\" + 0.005*\"играть\" + 0.005*\"виртуальный\" + 0.005*\"реальность\" + 0.005*\"мир\" + 0.005*\"уровень\" + 0.004*\"vr\" + 0.004*\"разработчик\"'),\n",
       " (29,\n",
       "  '0.016*\"обучение\" + 0.016*\"изображение\" + 0.013*\"сеть\" + 0.012*\"модель\" + 0.012*\"алгоритм\" + 0.008*\"функция\" + 0.008*\"вектор\" + 0.007*\"значение\" + 0.007*\"метод\" + 0.007*\"нейронный\"'),\n",
       " (14,\n",
       "  '0.011*\"версия\" + 0.011*\"приложение\" + 0.011*\"код\" + 0.006*\"инструмент\" + 0.006*\"страница\" + 0.006*\"библиотека\" + 0.006*\"браузер\" + 0.005*\"разработчик\" + 0.005*\"ваш\" + 0.005*\"ветка\"'),\n",
       " (64,\n",
       "  '0.011*\"программа\" + 0.011*\"книга\" + 0.009*\"java\" + 0.008*\"запись\" + 0.006*\"страница\" + 0.006*\"сертификат\" + 0.005*\"чтение\" + 0.005*\"день\" + 0.004*\"компьютер\" + 0.004*\"читать\"'),\n",
       " (43,\n",
       "  '0.025*\"лампа\" + 0.014*\"телескоп\" + 0.011*\"источник\" + 0.011*\"свет\" + 0.008*\"галактика\" + 0.008*\"зеркало\" + 0.008*\"офис\" + 0.006*\"суд\" + 0.005*\"открытый\" + 0.005*\"учёный\"'),\n",
       " (10,\n",
       "  '0.015*\"учёный\" + 0.013*\"университет\" + 0.012*\"исследование\" + 0.010*\"научный\" + 0.009*\"пациент\" + 0.007*\"исследователь\" + 0.007*\"болезнь\" + 0.006*\"заболевание\" + 0.006*\"лечение\" + 0.006*\"врач\"')]"
      ]
     },
     "execution_count": 139,
     "metadata": {},
     "output_type": "execute_result"
    }
   ],
   "source": [
    "besttopics"
   ]
  },
  {
   "cell_type": "markdown",
   "metadata": {},
   "source": [
    "### С tfidf"
   ]
  },
  {
   "cell_type": "code",
   "execution_count": 156,
   "metadata": {
    "collapsed": true
   },
   "outputs": [],
   "source": [
    "tfidftopics = lda.print_topics()"
   ]
  },
  {
   "cell_type": "code",
   "execution_count": 162,
   "metadata": {
    "scrolled": true
   },
   "outputs": [
    {
     "data": {
      "text/plain": [
       "[(10,\n",
       "  '0.009*\"палитра\" + 0.008*\"твой\" + 0.005*\"фронтенд\" + 0.005*\"затрагивать\" + 0.004*\"адаптивный\" + 0.004*\"адаптация\" + 0.003*\"упрощать\" + 0.003*\"basic\" + 0.003*\"ограниченный\" + 0.003*\"разрешение\"'),\n",
       " (44,\n",
       "  '0.003*\"одобрение\" + 0.002*\"context\" + 0.001*\"-e\" + 0.001*\"php\" + 0.001*\"this-\" + 0.001*\"vpn\" + 0.001*\"34\" + 0.001*\"option\" + 0.001*\"/**\" + 0.001*\"китайский\"'),\n",
       " (24,\n",
       "  '0.002*\"атомный\" + 0.001*\"лёд\" + 0.001*\"const\" + 0.000*\"арифметический\" + 0.000*\"ruby\" + 0.000*\"export\" + 0.000*\"весы\" + 0.000*\"разработчик\" + 0.000*\"one\" + 0.000*\"переменный\"'),\n",
       " (23,\n",
       "  '0.040*\"def\" + 0.029*\"val\" + 0.014*\"уравнение\" + 0.011*\"self\" + 0.010*\"теорема\" + 0.008*\"import\" + 0.006*\"генератор\" + 0.006*\"61\" + 0.005*\"none\" + 0.005*\"return\"'),\n",
       " (20,\n",
       "  '0.009*\"up\" + 0.001*\"down\" + 0.001*\"-l\" + 0.001*\"curl\" + 0.001*\"файл\" + 0.001*\"станция\" + 0.001*\"папка\" + 0.001*\"-e\" + 0.001*\"-a\" + 0.001*\"приложение\"'),\n",
       " (2,\n",
       "  '0.014*\"new\" + 0.005*\"day\" + 0.005*\"31\" + 0.003*\"when\" + 0.003*\"then\" + 0.003*\"values\" + 0.002*\"set\" + 0.001*\"rate\" + 0.001*\"require\" + 0.001*\"result\"'),\n",
       " (4,\n",
       "  '0.002*\"луч\" + 0.002*\"const\" + 0.001*\"function\" + 0.001*\"сетка\" + 0.001*\"err\" + 0.001*\"return\" + 0.001*\"user\" + 0.001*\"test\" + 0.001*\"amp\" + 0.001*\"игра\"'),\n",
       " (62,\n",
       "  '0.018*\"unity\" + 0.004*\"робот\" + 0.002*\"science\" + 0.002*\"вращение\" + 0.001*\"монетизация\" + 0.001*\"вращаться\" + 0.001*\"литература\" + 0.001*\"google\" + 0.001*\"бумажный\" + 0.001*\"усилитель\"'),\n",
       " (7,\n",
       "  '0.006*\"line\" + 0.005*\"file\" + 0.001*\"amp\" + 0.001*\"get\" + 0.001*\"true\" + 0.001*\"1с\" + 0.001*\"сокет\" + 0.000*\"define\" + 0.000*\"запрос\" + 0.000*\"граф\"'),\n",
       " (51,\n",
       "  '0.002*\"вредоносный\" + 0.002*\"агент\" + 0.001*\"ключ\" + 0.001*\"вебинар\" + 0.001*\"буква\" + 0.001*\"платёж\" + 0.001*\"уравнение\" + 0.001*\"подпись\" + 0.001*\"злоумышленник\" + 0.001*\"остров\"'),\n",
       " (25,\n",
       "  '0.001*\"nasa\" + 0.001*\"debug\" + 0.001*\"датчик\" + 0.001*\"tool\" + 0.001*\"крыша\" + 0.001*\"tesla\" + 0.001*\"сообщение\" + 0.001*\"one\" + 0.001*\"игра\" + 0.001*\"echo\"'),\n",
       " (64,\n",
       "  '0.001*\"игрок\" + 0.001*\"игра\" + 0.001*\"research\" + 0.001*\"конверсия\" + 0.001*\"slack\" + 0.001*\"вознаграждение\" + 0.001*\"болезнь\" + 0.000*\"художник\" + 0.000*\"google\" + 0.000*\"dell\"'),\n",
       " (63,\n",
       "  '0.026*\"else\" + 0.011*\"отпечаток\" + 0.006*\"сканер\" + 0.005*\"трекер\" + 0.004*\"палец\" + 0.002*\"pdf\" + 0.001*\"флешек\" + 0.001*\"скачать\" + 0.001*\"slack\" + 0.001*\"intel\"'),\n",
       " (11,\n",
       "  '0.001*\"доклад\" + 0.001*\"игра\" + 0.001*\"view\" + 0.000*\"хорошеть\" + 0.000*\"адаптивный\" + 0.000*\"архитектура\" + 0.000*\"российский\" + 0.000*\"public\" + 0.000*\"панель\" + 0.000*\"item\"'),\n",
       " (26,\n",
       "  '0.010*\"криптовалюта\" + 0.009*\"регулирование\" + 0.001*\"доклад\" + 0.001*\"агент\" + 0.001*\"std\" + 0.001*\"конференция\" + 0.001*\"круглый\" + 0.001*\"жидкость\" + 0.001*\"движение\" + 0.001*\"ftp\"'),\n",
       " (34,\n",
       "  '0.005*\"книга\" + 0.004*\"энергия\" + 0.004*\"дизайн\" + 0.004*\"доклад\" + 0.004*\"робот\" + 0.003*\"вселенная\" + 0.003*\"свет\" + 0.003*\"скидка\" + 0.003*\"думать\" + 0.003*\"город\"'),\n",
       " (61,\n",
       "  '0.001*\"pass\" + 0.001*\"amd\" + 0.001*\"подписка\" + 0.000*\"научный\" + 0.000*\"сообщество\" + 0.000*\"матрица\" + 0.000*\"рассылка\" + 0.000*\"height\" + 0.000*\"партия\" + 0.000*\"лицензия\"'),\n",
       " (15,\n",
       "  '0.007*\"файл\" + 0.006*\"windows\" + 0.005*\"javascript\" + 0.005*\"react\" + 0.005*\"css\" + 0.004*\"код\" + 0.004*\"программирование\" + 0.004*\"язык\" + 0.004*\"браузер\" + 0.004*\"драйвер\"'),\n",
       " (67,\n",
       "  '0.036*\"резервный\" + 0.030*\"бэкап\" + 0.023*\"квантовый\" + 0.019*\"копирование\" + 0.017*\"частица\" + 0.010*\"восстановление\" + 0.010*\"гравитация\" + 0.010*\"физика\" + 0.007*\"горизонт\" + 0.005*\"излучение\"'),\n",
       " (50,\n",
       "  '0.004*\"налог\" + 0.003*\"доход\" + 0.002*\"налоговый\" + 0.001*\"рубль\" + 0.001*\"super\" + 0.001*\"сумма\" + 0.001*\"цифра\" + 0.001*\"screen\" + 0.001*\"слот\" + 0.001*\"маска\"')]"
      ]
     },
     "execution_count": 162,
     "metadata": {},
     "output_type": "execute_result"
    }
   ],
   "source": [
    "tfidftopics"
   ]
  },
  {
   "cell_type": "markdown",
   "metadata": {},
   "source": [
    "Кажется, что после добавления tfidf модель стала хуже - если без него каждая тема более или менее связная и можно без большого труда предположить, что имелось в виду, то во втором случае кажется, что больше чем в половине случаев вышла каша.\n",
    "Узнаваемых тем, которые были и изменились я не вижу, но вижу знакомые слова, которые сочетаются очень странным способом. При этом перплексия стала ниже, а когерентность вообще не изменилась."
   ]
  },
  {
   "cell_type": "markdown",
   "metadata": {},
   "source": [
    "Ещё есть штука для визуализации."
   ]
  },
  {
   "cell_type": "code",
   "execution_count": 163,
   "metadata": {
    "collapsed": true
   },
   "outputs": [],
   "source": [
    "#pyLDAvis.enable_notebook()"
   ]
  },
  {
   "cell_type": "code",
   "execution_count": 164,
   "metadata": {
    "scrolled": true
   },
   "outputs": [],
   "source": [
    "#pyLDAvis.gensim.prepare(lda, corpus, dictinary)"
   ]
  },
  {
   "cell_type": "markdown",
   "metadata": {},
   "source": [
    "Можно посмотреть метрики."
   ]
  },
  {
   "cell_type": "code",
   "execution_count": 121,
   "metadata": {
    "collapsed": true
   },
   "outputs": [],
   "source": [
    "import numpy as np"
   ]
  },
  {
   "cell_type": "code",
   "execution_count": 122,
   "metadata": {
    "collapsed": true
   },
   "outputs": [],
   "source": [
    "?lda.log_perplexity"
   ]
  },
  {
   "cell_type": "code",
   "execution_count": 123,
   "metadata": {},
   "outputs": [
    {
     "data": {
      "text/plain": [
       "-23.067781433972737"
      ]
     },
     "execution_count": 123,
     "metadata": {},
     "output_type": "execute_result"
    }
   ],
   "source": [
    "lda.log_perplexity(corpus[:2000], total_docs=100)"
   ]
  },
  {
   "cell_type": "code",
   "execution_count": 124,
   "metadata": {
    "collapsed": true
   },
   "outputs": [],
   "source": [
    "coherence_model_lda = gensim.models.CoherenceModel(model=lda, \n",
    "                                                   texts=texts, \n",
    "                                                   dictionary=dictinary, coherence='c_v')"
   ]
  },
  {
   "cell_type": "code",
   "execution_count": 125,
   "metadata": {
    "collapsed": true
   },
   "outputs": [],
   "source": [
    "topics = []\n",
    "for topic_id, topic in lda.show_topics(num_topics=100, formatted=False):\n",
    "    topic = [word for word, _ in topic]\n",
    "    topics.append(topic)"
   ]
  },
  {
   "cell_type": "code",
   "execution_count": 126,
   "metadata": {
    "collapsed": true
   },
   "outputs": [],
   "source": [
    "coherence_model_lda = gensim.models.CoherenceModel(topics=topics, \n",
    "                                                   texts=texts, \n",
    "                                                   dictionary=dictinary, coherence='c_v')"
   ]
  },
  {
   "cell_type": "code",
   "execution_count": 127,
   "metadata": {},
   "outputs": [
    {
     "data": {
      "text/plain": [
       "0.5833270757337577"
      ]
     },
     "execution_count": 127,
     "metadata": {},
     "output_type": "execute_result"
    }
   ],
   "source": [
    "coherence_model_lda.get_coherence()"
   ]
  },
  {
   "cell_type": "code",
   "execution_count": 158,
   "metadata": {
    "collapsed": true
   },
   "outputs": [],
   "source": [
    "tfidfperp = lda.log_perplexity(corpus[:2000], total_docs=100)"
   ]
  },
  {
   "cell_type": "code",
   "execution_count": 159,
   "metadata": {
    "collapsed": true
   },
   "outputs": [],
   "source": [
    "tfidfcoher = coherence_model_lda.get_coherence()"
   ]
  },
  {
   "cell_type": "code",
   "execution_count": 160,
   "metadata": {},
   "outputs": [
    {
     "data": {
      "text/plain": [
       "-62.63296381935896"
      ]
     },
     "execution_count": 160,
     "metadata": {},
     "output_type": "execute_result"
    }
   ],
   "source": [
    "tfidfperp"
   ]
  },
  {
   "cell_type": "code",
   "execution_count": 161,
   "metadata": {},
   "outputs": [
    {
     "data": {
      "text/plain": [
       "0.5833270757337577"
      ]
     },
     "execution_count": 161,
     "metadata": {},
     "output_type": "execute_result"
    }
   ],
   "source": [
    "tfidfcoher"
   ]
  },
  {
   "cell_type": "markdown",
   "metadata": {},
   "source": [
    "### Разложение матриц в sklearn"
   ]
  },
  {
   "cell_type": "code",
   "execution_count": 128,
   "metadata": {
    "collapsed": true
   },
   "outputs": [],
   "source": [
    "from sklearn.decomposition import NMF\n",
    "from sklearn.feature_extraction.text import CountVectorizer, TfidfVectorizer\n",
    "import pandas as pd"
   ]
  },
  {
   "cell_type": "markdown",
   "metadata": {},
   "source": [
    "Sklearn принимает на вход строки, поэтому склеим наши списки."
   ]
  },
  {
   "cell_type": "code",
   "execution_count": 165,
   "metadata": {
    "collapsed": true
   },
   "outputs": [],
   "source": [
    "stexts = [' '.join(text) for text in texts]"
   ]
  },
  {
   "cell_type": "markdown",
   "metadata": {},
   "source": [
    "Сделаем матрицу слова-документы с помощью TfidfVectorizer"
   ]
  },
  {
   "cell_type": "code",
   "execution_count": 180,
   "metadata": {},
   "outputs": [
    {
     "name": "stderr",
     "output_type": "stream",
     "text": [
      "C:\\Users\\Asus\\Anaconda3\\envs\\mllecture\\lib\\site-packages\\sklearn\\feature_extraction\\text.py:1089: FutureWarning: Conversion of the second argument of issubdtype from `float` to `np.floating` is deprecated. In future, it will be treated as `np.float64 == np.dtype(float).type`.\n",
      "  if hasattr(X, 'dtype') and np.issubdtype(X.dtype, np.float):\n"
     ]
    }
   ],
   "source": [
    "vectorizer = TfidfVectorizer(max_features=25000, min_df=10, max_df=0.5, lowercase=False)\n",
    "X = vectorizer.fit_transform(stexts)"
   ]
  },
  {
   "cell_type": "markdown",
   "metadata": {},
   "source": [
    "Разложим её."
   ]
  },
  {
   "cell_type": "code",
   "execution_count": 181,
   "metadata": {
    "collapsed": true
   },
   "outputs": [],
   "source": [
    "model = NMF(n_components=30)"
   ]
  },
  {
   "cell_type": "code",
   "execution_count": 182,
   "metadata": {},
   "outputs": [
    {
     "data": {
      "text/plain": [
       "NMF(alpha=0.0, beta_loss='frobenius', init=None, l1_ratio=0.0, max_iter=200,\n",
       "  n_components=30, random_state=None, shuffle=False, solver='cd',\n",
       "  tol=0.0001, verbose=0)"
      ]
     },
     "execution_count": 182,
     "metadata": {},
     "output_type": "execute_result"
    }
   ],
   "source": [
    "model.fit(X)"
   ]
  },
  {
   "cell_type": "code",
   "execution_count": 183,
   "metadata": {
    "collapsed": true
   },
   "outputs": [],
   "source": [
    "def get_nmf_topics(model, n_top_words):\n",
    "    \n",
    "    #id слов.\n",
    "    feat_names = vectorizer.get_feature_names()\n",
    "    \n",
    "    word_dict = {};\n",
    "    for i in range(30):\n",
    "        \n",
    "        #топ n слов для темы.\n",
    "        words_ids = model.components_[i].argsort()[:-n_top_words - 1:-1]\n",
    "        words = [feat_names[key] for key in words_ids]\n",
    "        word_dict['Topic # ' + '{:02d}'.format(i+1)] = words;\n",
    "    \n",
    "    return pd.DataFrame(word_dict);"
   ]
  },
  {
   "cell_type": "markdown",
   "metadata": {},
   "source": [
    "Лучшая nmf модель ниже:"
   ]
  },
  {
   "cell_type": "code",
   "execution_count": 184,
   "metadata": {},
   "outputs": [
    {
     "data": {
      "text/html": [
       "<div>\n",
       "<style>\n",
       "    .dataframe thead tr:only-child th {\n",
       "        text-align: right;\n",
       "    }\n",
       "\n",
       "    .dataframe thead th {\n",
       "        text-align: left;\n",
       "    }\n",
       "\n",
       "    .dataframe tbody tr th {\n",
       "        vertical-align: top;\n",
       "    }\n",
       "</style>\n",
       "<table border=\"1\" class=\"dataframe\">\n",
       "  <thead>\n",
       "    <tr style=\"text-align: right;\">\n",
       "      <th></th>\n",
       "      <th>Topic # 01</th>\n",
       "      <th>Topic # 02</th>\n",
       "      <th>Topic # 03</th>\n",
       "      <th>Topic # 04</th>\n",
       "      <th>Topic # 05</th>\n",
       "      <th>Topic # 06</th>\n",
       "      <th>Topic # 07</th>\n",
       "      <th>Topic # 08</th>\n",
       "      <th>Topic # 09</th>\n",
       "      <th>Topic # 10</th>\n",
       "      <th>...</th>\n",
       "      <th>Topic # 21</th>\n",
       "      <th>Topic # 22</th>\n",
       "      <th>Topic # 23</th>\n",
       "      <th>Topic # 24</th>\n",
       "      <th>Topic # 25</th>\n",
       "      <th>Topic # 26</th>\n",
       "      <th>Topic # 27</th>\n",
       "      <th>Topic # 28</th>\n",
       "      <th>Topic # 29</th>\n",
       "      <th>Topic # 30</th>\n",
       "    </tr>\n",
       "  </thead>\n",
       "  <tbody>\n",
       "    <tr>\n",
       "      <th>0</th>\n",
       "      <td>человек</td>\n",
       "      <td>gt</td>\n",
       "      <td>игра</td>\n",
       "      <td>windows</td>\n",
       "      <td>сигнал</td>\n",
       "      <td>компания</td>\n",
       "      <td>приложение</td>\n",
       "      <td>public</td>\n",
       "      <td>космический</td>\n",
       "      <td>if</td>\n",
       "      <td>...</td>\n",
       "      <td>обучение</td>\n",
       "      <td>проект</td>\n",
       "      <td>файл</td>\n",
       "      <td>сайт</td>\n",
       "      <td>бот</td>\n",
       "      <td>книга</td>\n",
       "      <td>функция</td>\n",
       "      <td>камера</td>\n",
       "      <td>атака</td>\n",
       "      <td>робот</td>\n",
       "    </tr>\n",
       "    <tr>\n",
       "      <th>1</th>\n",
       "      <td>ты</td>\n",
       "      <td>lt</td>\n",
       "      <td>игрок</td>\n",
       "      <td>microsoft</td>\n",
       "      <td>звук</td>\n",
       "      <td>сотрудник</td>\n",
       "      <td>android</td>\n",
       "      <td>string</td>\n",
       "      <td>спутник</td>\n",
       "      <td>int</td>\n",
       "      <td>...</td>\n",
       "      <td>сеть</td>\n",
       "      <td>код</td>\n",
       "      <td>docker</td>\n",
       "      <td>пользователь</td>\n",
       "      <td>telegram</td>\n",
       "      <td>часы</td>\n",
       "      <td>объект</td>\n",
       "      <td>устройство</td>\n",
       "      <td>безопасность</td>\n",
       "      <td>ребёнок</td>\n",
       "    </tr>\n",
       "    <tr>\n",
       "      <th>2</th>\n",
       "      <td>мой</td>\n",
       "      <td>div</td>\n",
       "      <td>игровой</td>\n",
       "      <td>linux</td>\n",
       "      <td>усилитель</td>\n",
       "      <td>бизнес</td>\n",
       "      <td>мобильный</td>\n",
       "      <td>void</td>\n",
       "      <td>ракета</td>\n",
       "      <td>amp</td>\n",
       "      <td>...</td>\n",
       "      <td>нейросеть</td>\n",
       "      <td>задача</td>\n",
       "      <td>http</td>\n",
       "      <td>страница</td>\n",
       "      <td>сообщение</td>\n",
       "      <td>каковать</td>\n",
       "      <td>значение</td>\n",
       "      <td>смартфон</td>\n",
       "      <td>уязвимость</td>\n",
       "      <td>автомобиль</td>\n",
       "    </tr>\n",
       "    <tr>\n",
       "      <th>3</th>\n",
       "      <td>кто</td>\n",
       "      <td>class</td>\n",
       "      <td>играть</td>\n",
       "      <td>версия</td>\n",
       "      <td>частота</td>\n",
       "      <td>рынок</td>\n",
       "      <td>ios</td>\n",
       "      <td>new</td>\n",
       "      <td>орбита</td>\n",
       "      <td>lt</td>\n",
       "      <td>...</td>\n",
       "      <td>нейронный</td>\n",
       "      <td>язык</td>\n",
       "      <td>php</td>\n",
       "      <td>реклама</td>\n",
       "      <td>чат</td>\n",
       "      <td>порекомендовать</td>\n",
       "      <td>элемент</td>\n",
       "      <td>телефон</td>\n",
       "      <td>устройство</td>\n",
       "      <td>робототехника</td>\n",
       "    </tr>\n",
       "    <tr>\n",
       "      <th>4</th>\n",
       "      <td>вот</td>\n",
       "      <td>name</td>\n",
       "      <td>vr</td>\n",
       "      <td>azure</td>\n",
       "      <td>наушник</td>\n",
       "      <td>ит</td>\n",
       "      <td>google</td>\n",
       "      <td>this</td>\n",
       "      <td>марс</td>\n",
       "      <td>else</td>\n",
       "      <td>...</td>\n",
       "      <td>машинный</td>\n",
       "      <td>разработчик</td>\n",
       "      <td>сервер</td>\n",
       "      <td>клиент</td>\n",
       "      <td>телеграм</td>\n",
       "      <td>профессиональный</td>\n",
       "      <td>код</td>\n",
       "      <td>видео</td>\n",
       "      <td>злоумышленник</td>\n",
       "      <td>lego</td>\n",
       "    </tr>\n",
       "    <tr>\n",
       "      <th>5</th>\n",
       "      <td>ваш</td>\n",
       "      <td>this</td>\n",
       "      <td>персонаж</td>\n",
       "      <td>браузер</td>\n",
       "      <td>устройство</td>\n",
       "      <td>российский</td>\n",
       "      <td>устройство</td>\n",
       "      <td>return</td>\n",
       "      <td>аппарат</td>\n",
       "      <td>return</td>\n",
       "      <td>...</td>\n",
       "      <td>алгоритм</td>\n",
       "      <td>разработка</td>\n",
       "      <td>sudo</td>\n",
       "      <td>контент</td>\n",
       "      <td>bot</td>\n",
       "      <td>каким</td>\n",
       "      <td>тип</td>\n",
       "      <td>регистратор</td>\n",
       "      <td>защита</td>\n",
       "      <td>датчик</td>\n",
       "    </tr>\n",
       "    <tr>\n",
       "      <th>6</th>\n",
       "      <td>да</td>\n",
       "      <td>props</td>\n",
       "      <td>разработчик</td>\n",
       "      <td>net</td>\n",
       "      <td>искажение</td>\n",
       "      <td>продукт</td>\n",
       "      <td>app</td>\n",
       "      <td>private</td>\n",
       "      <td>земля</td>\n",
       "      <td>void</td>\n",
       "      <td>...</td>\n",
       "      <td>интеллект</td>\n",
       "      <td>команда</td>\n",
       "      <td>etc</td>\n",
       "      <td>письмо</td>\n",
       "      <td>api</td>\n",
       "      <td>предпочитать</td>\n",
       "      <td>строка</td>\n",
       "      <td>аккумулятор</td>\n",
       "      <td>пароль</td>\n",
       "      <td>машина</td>\n",
       "    </tr>\n",
       "    <tr>\n",
       "      <th>7</th>\n",
       "      <td>надо</td>\n",
       "      <td>html</td>\n",
       "      <td>steam</td>\n",
       "      <td>обновление</td>\n",
       "      <td>напряжение</td>\n",
       "      <td>крупный</td>\n",
       "      <td>пользователь</td>\n",
       "      <td>var</td>\n",
       "      <td>луна</td>\n",
       "      <td>null</td>\n",
       "      <td>...</td>\n",
       "      <td>изображение</td>\n",
       "      <td>тест</td>\n",
       "      <td>nginx</td>\n",
       "      <td>браузер</td>\n",
       "      <td>пользователь</td>\n",
       "      <td>слушать</td>\n",
       "      <td>метод</td>\n",
       "      <td>экран</td>\n",
       "      <td>вредоносный</td>\n",
       "      <td>беспилотный</td>\n",
       "    </tr>\n",
       "    <tr>\n",
       "      <th>8</th>\n",
       "      <td>дело</td>\n",
       "      <td>return</td>\n",
       "      <td>unity</td>\n",
       "      <td>visual</td>\n",
       "      <td>звуковой</td>\n",
       "      <td>директор</td>\n",
       "      <td>play</td>\n",
       "      <td>class</td>\n",
       "      <td>станция</td>\n",
       "      <td>char</td>\n",
       "      <td>...</td>\n",
       "      <td>лекция</td>\n",
       "      <td>тестирование</td>\n",
       "      <td>скрипт</td>\n",
       "      <td>сервис</td>\n",
       "      <td>мессенджер</td>\n",
       "      <td>бумажный</td>\n",
       "      <td>класс</td>\n",
       "      <td>карта</td>\n",
       "      <td>ключ</td>\n",
       "      <td>движение</td>\n",
       "    </tr>\n",
       "    <tr>\n",
       "      <th>9</th>\n",
       "      <td>хотеть</td>\n",
       "      <td>value</td>\n",
       "      <td>геймплей</td>\n",
       "      <td>studio</td>\n",
       "      <td>ток</td>\n",
       "      <td>клиент</td>\n",
       "      <td>разработчик</td>\n",
       "      <td>класс</td>\n",
       "      <td>наса</td>\n",
       "      <td>std</td>\n",
       "      <td>...</td>\n",
       "      <td>искусственный</td>\n",
       "      <td>программист</td>\n",
       "      <td>usr</td>\n",
       "      <td>домен</td>\n",
       "      <td>канал</td>\n",
       "      <td>менеджер</td>\n",
       "      <td>блок</td>\n",
       "      <td>дисплей</td>\n",
       "      <td>доступ</td>\n",
       "      <td>дрон</td>\n",
       "    </tr>\n",
       "  </tbody>\n",
       "</table>\n",
       "<p>10 rows × 30 columns</p>\n",
       "</div>"
      ],
      "text/plain": [
       "  Topic # 01 Topic # 02   Topic # 03  Topic # 04  Topic # 05  Topic # 06  \\\n",
       "0    человек         gt         игра     windows      сигнал    компания   \n",
       "1         ты         lt        игрок   microsoft        звук   сотрудник   \n",
       "2        мой        div      игровой       linux   усилитель      бизнес   \n",
       "3        кто      class       играть      версия     частота       рынок   \n",
       "4        вот       name           vr       azure     наушник          ит   \n",
       "5        ваш       this     персонаж     браузер  устройство  российский   \n",
       "6         да      props  разработчик         net   искажение     продукт   \n",
       "7       надо       html        steam  обновление  напряжение     крупный   \n",
       "8       дело     return        unity      visual    звуковой    директор   \n",
       "9     хотеть      value     геймплей      studio         ток      клиент   \n",
       "\n",
       "     Topic # 07 Topic # 08   Topic # 09 Topic # 10      ...        \\\n",
       "0    приложение     public  космический         if      ...         \n",
       "1       android     string      спутник        int      ...         \n",
       "2     мобильный       void       ракета        amp      ...         \n",
       "3           ios        new       орбита         lt      ...         \n",
       "4        google       this         марс       else      ...         \n",
       "5    устройство     return      аппарат     return      ...         \n",
       "6           app    private        земля       void      ...         \n",
       "7  пользователь        var         луна       null      ...         \n",
       "8          play      class      станция       char      ...         \n",
       "9   разработчик      класс         наса        std      ...         \n",
       "\n",
       "      Topic # 21    Topic # 22 Topic # 23    Topic # 24    Topic # 25  \\\n",
       "0       обучение        проект       файл          сайт           бот   \n",
       "1           сеть           код     docker  пользователь      telegram   \n",
       "2      нейросеть        задача       http      страница     сообщение   \n",
       "3      нейронный          язык        php       реклама           чат   \n",
       "4       машинный   разработчик     сервер        клиент      телеграм   \n",
       "5       алгоритм    разработка       sudo       контент           bot   \n",
       "6      интеллект       команда        etc        письмо           api   \n",
       "7    изображение          тест      nginx       браузер  пользователь   \n",
       "8         лекция  тестирование     скрипт        сервис    мессенджер   \n",
       "9  искусственный   программист        usr         домен         канал   \n",
       "\n",
       "         Topic # 26 Topic # 27   Topic # 28     Topic # 29     Topic # 30  \n",
       "0             книга    функция       камера          атака          робот  \n",
       "1              часы     объект   устройство   безопасность        ребёнок  \n",
       "2          каковать   значение     смартфон     уязвимость     автомобиль  \n",
       "3   порекомендовать    элемент      телефон     устройство  робототехника  \n",
       "4  профессиональный        код        видео  злоумышленник           lego  \n",
       "5             каким        тип  регистратор         защита         датчик  \n",
       "6      предпочитать     строка  аккумулятор         пароль         машина  \n",
       "7           слушать      метод        экран    вредоносный    беспилотный  \n",
       "8          бумажный      класс        карта           ключ       движение  \n",
       "9          менеджер       блок      дисплей         доступ           дрон  \n",
       "\n",
       "[10 rows x 30 columns]"
      ]
     },
     "execution_count": 184,
     "metadata": {},
     "output_type": "execute_result"
    }
   ],
   "source": [
    "a = get_nmf_topics(model, 10)\n",
    "a"
   ]
  },
  {
   "cell_type": "markdown",
   "metadata": {},
   "source": [
    "Кажется, что в отличии от тем, полученных с LDA эта модель дает описания именно статей, а в lda cкорее получилить топики - сферы и общее направление рассуждений.\n",
    "То есь, в LDA на мой взгляд темы более общие, а в NMF более конкретные. Хотя они во многом похожи и некоторые даже кажутся совпадают, например и там и там выделилась тема про космос, про игры, про мобильные приложения и т.п."
   ]
  },
  {
   "cell_type": "code",
   "execution_count": null,
   "metadata": {
    "collapsed": true
   },
   "outputs": [],
   "source": []
  }
 ],
 "metadata": {
  "kernelspec": {
   "display_name": "Python 3",
   "language": "python",
   "name": "python3"
  },
  "language_info": {
   "codemirror_mode": {
    "name": "ipython",
    "version": 3
   },
   "file_extension": ".py",
   "mimetype": "text/x-python",
   "name": "python",
   "nbconvert_exporter": "python",
   "pygments_lexer": "ipython3",
   "version": "3.5.4"
  }
 },
 "nbformat": 4,
 "nbformat_minor": 2
}
